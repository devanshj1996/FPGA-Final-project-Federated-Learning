{
 "cells": [
  {
   "cell_type": "code",
   "execution_count": 118,
   "id": "f46c9630-dc33-4279-a631-71be2bc28d95",
   "metadata": {},
   "outputs": [],
   "source": [
    "import pynq\n",
    "import time\n",
    "import numpy as np\n",
    "import socket\n",
    "import pickle"
   ]
  },
  {
   "cell_type": "code",
   "execution_count": 119,
   "id": "b5eed2dc-a8be-4864-92d1-dd4a6dcb3c36",
   "metadata": {},
   "outputs": [],
   "source": [
    "HOST = \"192.168.0.160\"  # The server's hostname or IP address\n",
    "PORT = 65434  # The port used by the server"
   ]
  },
  {
   "cell_type": "code",
   "execution_count": 120,
   "id": "11c412b1-d2a2-46ae-8697-4abec1c37f52",
   "metadata": {},
   "outputs": [],
   "source": [
    "bitstream = \"real_matmul_optimized.bit\"\n",
    "overlay = pynq.Overlay(bitstream)\n",
    "dut = overlay.real_matmul_0"
   ]
  },
  {
   "cell_type": "code",
   "execution_count": 121,
   "id": "5cf2bbcd-8b4a-443f-9631-87cff2650a21",
   "metadata": {},
   "outputs": [],
   "source": [
    "A = pynq.allocate((100, 150), dtype='int16')\n",
    "B = pynq.allocate((150, 200), dtype='int16')\n",
    "C = pynq.allocate((100, 200), dtype='int16')"
   ]
  },
  {
   "cell_type": "code",
   "execution_count": 122,
   "id": "069652fd",
   "metadata": {},
   "outputs": [
    {
     "name": "stdout",
     "output_type": "stream",
     "text": [
      "1st Array received:  [[990 682 390 ... 778 374 954]\n",
      " [731  52 727 ... 970  39 665]\n",
      " [894 483 353 ... 369  73 232]\n",
      " ...\n",
      " [232 673 900 ... 259  98 576]\n",
      " [500 653 828 ... 280 113 954]\n",
      " [382 199 501 ... 133 831 527]]\n",
      "2nd Array received:  [[ 76 304 743 ... 777  23 724]\n",
      " [754 427 329 ... 274 543 320]\n",
      " [738 388 130 ... 688 560 150]\n",
      " ...\n",
      " [853 493 170 ...  50 902 562]\n",
      " [688 561 953 ... 478 317 114]\n",
      " [720 910 678 ... 355 640 224]]\n"
     ]
    }
   ],
   "source": [
    "arr=[]\n",
    "arr1=[]\n",
    "arr2=[]\n",
    "arr3=[]\n",
    "\n",
    "time.sleep(11)\n",
    "with socket.socket(socket.AF_INET, socket.SOCK_STREAM) as s:\n",
    "    \n",
    "    s.connect((HOST, PORT))\n",
    "    for i in range(1000):\n",
    "        result_bytes = s.recv(2*15)\n",
    "        result = np.frombuffer(result_bytes, dtype=np.int16)\n",
    "        arr= result.copy()\n",
    "        arr1.append(arr)\n",
    "        \n",
    "    for i in range(1000):\n",
    "        result_bytes = s.recv(2*30)\n",
    "        result = np.frombuffer(result_bytes, dtype=np.int16)\n",
    "        arr= result.copy()\n",
    "        arr2.append(arr)\n",
    "\n",
    "    \n",
    "#    result_bytes = s.recv((2*30000))\n",
    "#    result = np.frombuffer(result_bytes, dtype=np.int16)\n",
    "#    arr2= result.copy()\n",
    "    \n",
    "#    result_bytes = s.recv((2*15001))\n",
    "#    result = np.frombuffer(result_bytes, dtype=np.int16)\n",
    "#    arr3.append(result)\n",
    "    \n",
    "#    time.sleep(5)\n",
    "    \n",
    "arr1 = [x for y in arr1 for x in y]\n",
    "arr2 = [x for y in arr2 for x in y]\n",
    "\n",
    "arr1 = np.array(list(arr1), dtype='int16')\n",
    "arr2 = np.array(list(arr2), dtype='int16')\n",
    "\n",
    "arr1= arr1.reshape(100,150)\n",
    "arr2= arr2.reshape(150,200)\n",
    "\n",
    "print(\"1st Array received: \", (arr1))\n",
    "print(\"2nd Array received: \", (arr2))\n"
   ]
  },
  {
   "cell_type": "markdown",
   "id": "d27d04ce",
   "metadata": {},
   "source": [
    "# Create a socket object\n",
    "sock = socket.socket(socket.AF_INET, socket.SOCK_STREAM)\n",
    "\n",
    "# Define the server address and port\n",
    "server_address = (HOST, PORT)\n",
    "\n",
    "# Bind the socket to the server address\n",
    "sock.bind(server_address)\n",
    "\n",
    "# Listen for incoming connections\n",
    "sock.listen(1)\n",
    "\n",
    "# Accept a client connection\n",
    "print(\"Waiting for a client connection...\")\n",
    "client_socket, client_address = sock.accept()\n",
    "print(\"Client connected:\", client_address)\n",
    "\n",
    "# Receive the serialized array from the client\n",
    "serialized_array = client_socket.recv(4096)\n",
    "\n",
    "# Deserialize the array using pickle\n",
    "array = pickle.loads(serialized_array)\n",
    "\n",
    "# Print the received array size\n",
    "print(\"Received array size:\", len(array))\n",
    "\n",
    "# Close the client socket\n",
    "client_socket.close()\n",
    "\n",
    "# Close the server socket\n",
    "sock.close()\n"
   ]
  },
  {
   "cell_type": "code",
   "execution_count": 123,
   "id": "d1a8812e-59c8-4090-af79-8e537ff3ae76",
   "metadata": {},
   "outputs": [],
   "source": [
    "for i in range(100):\n",
    "    for j in range(150):\n",
    "        A[i][j]= arr1[i][j]\n",
    "\n",
    "for i in range(150):\n",
    "    for j in range(200):\n",
    "        B[i][j]= arr2[i][j]"
   ]
  },
  {
   "cell_type": "code",
   "execution_count": 124,
   "id": "8e115a26-cf6a-45f0-9990-51711f6d6d66",
   "metadata": {},
   "outputs": [
    {
     "name": "stdout",
     "output_type": "stream",
     "text": [
      "Kernel completed in 3.56ms\n"
     ]
    }
   ],
   "source": [
    "A.sync_to_device()\n",
    "B.sync_to_device()\n",
    "dut.register_map\n",
    "dut.register_map.MatA_DRAM_1 = A.device_address & 0xFFFFFFFF\n",
    "dut.register_map.MatA_DRAM_2 = A.device_address >> 32\n",
    "\n",
    "dut.register_map.MatB_DRAM_1 = B.device_address & 0xFFFFFFFF\n",
    "dut.register_map.MatB_DRAM_2 = B.device_address >> 32\n",
    "\n",
    "dut.register_map.MatC_DRAM_1 = C.device_address & 0xFFFFFFFF\n",
    "dut.register_map.MatC_DRAM_2 = C.device_address >> 32\n",
    "start_time = time.time()\n",
    "\n",
    "dut.register_map.CTRL.AP_START = 1\n",
    "dut.register_map.CTRL[4] = 1\n",
    "while not dut.register_map.CTRL.AP_DONE: pass\n",
    "\n",
    "end_time = time.time()\n",
    "duration = end_time - start_time\n",
    "print(f'Kernel completed in {duration * 1000:.2f}ms')\n",
    "C.sync_from_device()"
   ]
  },
  {
   "cell_type": "code",
   "execution_count": 125,
   "id": "e21a57a9-1768-49b6-ba6a-be142f82e511",
   "metadata": {},
   "outputs": [],
   "source": [
    "C_expected= np.matmul(arr1,arr2)"
   ]
  },
  {
   "cell_type": "code",
   "execution_count": 126,
   "id": "0b32b08f-c00d-4ec1-bdbc-3336c34d0162",
   "metadata": {},
   "outputs": [
    {
     "name": "stdout",
     "output_type": "stream",
     "text": [
      "-----------------------------------\n",
      "\n",
      "|         TEST PASSED!            |\n",
      "\n",
      "-----------------------------------\n",
      "\n"
     ]
    }
   ],
   "source": [
    "passed=1\n",
    "for i in range(100):\n",
    "    for j in range(200):\n",
    "        if(C_expected[i][j]!= C[i][j]):\n",
    "            print(\"Mismatch at C_expected[\"+str(i)+\"][\"+str(j)+\"]: Expected: \"+str(C_expected[i][j])+\" \\t Actual: \"+str(C[i][j])+\"\\n\")\n",
    "            passed=0\n",
    "\n",
    "if(passed):\n",
    "    print(\"-----------------------------------\\n\");\n",
    "    print(\"|         TEST PASSED!            |\\n\");\n",
    "    print(\"-----------------------------------\\n\");\n",
    "\n",
    "else:\n",
    "    print(\"-----------------------------------\\n\");\n",
    "    print(\"|         TEST FAILED :(          |\\n\");\n",
    "    print(\"-----------------------------------\\n\");"
   ]
  },
  {
   "cell_type": "code",
   "execution_count": 127,
   "id": "7f51f697-1645-4457-83ff-47f8c3456b37",
   "metadata": {},
   "outputs": [],
   "source": [
    "overlay.free()"
   ]
  },
  {
   "cell_type": "code",
   "execution_count": 128,
   "id": "3fb15d51-36ac-4d3a-b5ab-4d1e54309177",
   "metadata": {},
   "outputs": [
    {
     "name": "stdout",
     "output_type": "stream",
     "text": [
      "PS computation completed in 277.66ms\n"
     ]
    }
   ],
   "source": [
    "start_time = time.time()\n",
    "\n",
    "C_out = np.matmul(A, B)\n",
    "\n",
    "end_time = time.time()\n",
    "duration = end_time - start_time\n",
    "print(f'PS computation completed in {duration * 1000:.2f}ms')"
   ]
  },
  {
   "cell_type": "code",
   "execution_count": 129,
   "id": "3f4c9809-305a-4f51-a979-14342e199bbe",
   "metadata": {},
   "outputs": [
    {
     "name": "stdout",
     "output_type": "stream",
     "text": [
      "Array Sent:  [-12746.   6688.  29355. ... -11491.  14565.   3814.]\n"
     ]
    }
   ],
   "source": [
    "#Sending the data back\n",
    "c= np.empty(shape=(100,200))\n",
    "for i in range(100):\n",
    "    for j in range(200):\n",
    "        c[i][j]= C[i][j]\n",
    "\n",
    "c_ser= c.flatten()\n",
    "c_1_bytes = np.array(c_ser, dtype=np.int16).tobytes()\n",
    "#c_2_bytes = np.array(c_ser[10000:20000], dtype=np.int16).tobytes()\n",
    "\n",
    "print(\"Array Sent: \", c_ser)\n",
    "\n",
    "PORT = 6002\n",
    "time.sleep(15)\n",
    "with socket.socket(socket.AF_INET, socket.SOCK_STREAM) as s:\n",
    "    \n",
    "    s.connect((HOST, PORT))\n",
    "\n",
    "    data= c_1_bytes\n",
    "    s.sendall(data)\n",
    "        \n",
    "#    data= c_2_bytes\n",
    "#    s.sendall(data)\n"
   ]
  }
 ],
 "metadata": {
  "kernelspec": {
   "display_name": "Python 3",
   "language": "python",
   "name": "python3"
  },
  "language_info": {
   "codemirror_mode": {
    "name": "ipython",
    "version": 3
   },
   "file_extension": ".py",
   "mimetype": "text/x-python",
   "name": "python",
   "nbconvert_exporter": "python",
   "pygments_lexer": "ipython3",
   "version": "3.8.2"
  }
 },
 "nbformat": 4,
 "nbformat_minor": 5
}

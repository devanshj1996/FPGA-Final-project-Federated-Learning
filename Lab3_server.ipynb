{
 "cells": [
  {
   "cell_type": "code",
   "execution_count": 8,
   "id": "ff97b392-b8c5-463a-bfdc-cf3fb393314c",
   "metadata": {},
   "outputs": [],
   "source": [
    "import socket\n",
    "import numpy as np"
   ]
  },
  {
   "cell_type": "code",
   "execution_count": 9,
   "id": "5beb25be-8fc6-437c-ae3e-28a4a097306c",
   "metadata": {},
   "outputs": [],
   "source": [
    "#List of IP addresses for different FPGAs\n",
    "ip_addresses = [\"127.0.0.2\"]\n",
    "PORT = 65432  # Port to listen on (non-privileged ports are > 1023)"
   ]
  },
  {
   "cell_type": "code",
   "execution_count": 10,
   "id": "95f0effc-f715-4f84-b853-65d42b424043",
   "metadata": {},
   "outputs": [],
   "source": [
    "#Randomly generating input arrays\n",
    "arr1 = np.random.randint(1000, size = (100,150),dtype='i2')\n",
    "arr2 = np.random.randint(1000, size = (150,200),dtype='i2')"
   ]
  },
  {
   "cell_type": "code",
   "execution_count": 11,
   "id": "0199ee66-783f-4332-8a24-55532f20e11f",
   "metadata": {},
   "outputs": [],
   "source": [
    "#Flattening 2d Arrays to 1d\n",
    "arr1_ser= arr1.flatten()\n",
    "arr2_ser= arr2.flatten()"
   ]
  },
  {
   "cell_type": "code",
   "execution_count": 12,
   "id": "ffb260c0-c596-488e-9959-9d37bb02f8db",
   "metadata": {},
   "outputs": [],
   "source": [
    "#Converting the arrays to send to bytes\n",
    "arr1_bytes = np.array(arr1_ser, dtype=np.int16).tobytes()\n",
    "arr2_1_bytes = np.array(arr2_ser[0:15000], dtype=np.int16).tobytes()\n",
    "arr2_2_bytes = np.array(arr2_ser[15000:30000], dtype=np.int16).tobytes()"
   ]
  },
  {
   "cell_type": "code",
   "execution_count": 13,
   "id": "2d35ff14-7274-420b-ac48-7848f5da79c4",
   "metadata": {},
   "outputs": [
    {
     "name": "stdout",
     "output_type": "stream",
     "text": [
      "Connected by ('127.0.0.1', 45486)\n",
      "1st Array sent:  [[435 167 973 ...  30 139 540]\n",
      " [813 593 485 ... 666 392 135]\n",
      " [831 304 191 ... 568 689 773]\n",
      " ...\n",
      " [619 360 485 ... 802 848 450]\n",
      " [315 305 867 ... 893 806 338]\n",
      " [116 346 476 ... 730 221 533]]\n",
      "2nd Array sent:  [[637  52 493 ... 200 650 982]\n",
      " [768 394 553 ... 822 872 883]\n",
      " [339   3 724 ... 362 758 347]\n",
      " ...\n",
      " [395 288 104 ... 322 713 812]\n",
      " [463 107 724 ... 179 873 403]\n",
      " [ 95 995 989 ... 899  26 296]]\n"
     ]
    }
   ],
   "source": [
    "#Sending data to all the FPGAs one by one\n",
    "for HOST in ip_addresses:\n",
    "    \n",
    "    with socket.socket(socket.AF_INET, socket.SOCK_STREAM) as s:\n",
    "        s.bind((HOST, PORT))\n",
    "        s.listen()\n",
    "        conn, addr = s.accept()\n",
    "        with conn:\n",
    "            print(f\"Connected by {addr}\")\n",
    "\n",
    "            #data= b\"Hello, world from server\"\n",
    "            data= arr1_bytes\n",
    "            conn.sendall(data)\n",
    "            print(\"1st Array sent: \", arr1)\n",
    "            \n",
    "            data= arr2_1_bytes\n",
    "            conn.sendall(data)\n",
    "            \n",
    "            data= arr2_2_bytes\n",
    "            conn.sendall(data)\n",
    "            \n",
    "            print(\"2nd Array sent: \", arr2)"
   ]
  },
  {
   "cell_type": "code",
   "execution_count": null,
   "id": "c0487552-0a35-44ae-926f-8e1325c6eb80",
   "metadata": {},
   "outputs": [],
   "source": [
    "#Receiving the computed matrix from the FPGAs\n",
    "PORT = 65433\n",
    "for HOST in ip_addresses:\n",
    "    \n",
    "    with socket.socket(socket.AF_INET, socket.SOCK_STREAM) as s:\n",
    "        s.bind((HOST, PORT))\n",
    "        s.listen()\n",
    "        conn, addr = s.accept()\n",
    "        with conn:\n",
    "            print(f\"Connected by {addr}\")            \n",
    "\n",
    "            arr1=[]\n",
    "\n",
    "            result_bytes = conn.recv(4*20000)\n",
    "            result = np.frombuffer(result_bytes, dtype=np.int16)\n",
    "            arr1= result.copy()\n",
    "            \n",
    "            #Coverting the 1d Array received to 2d\n",
    "            arr1 = np.array(list(arr1), dtype='int16')\n",
    "            arr1= arr1.reshape(100,200)\n",
    "            print(\"Array received: \", arr1)\n",
    "            "
   ]
  },
  {
   "cell_type": "code",
   "execution_count": null,
   "id": "6c88aa93-eacc-4cf6-8bd2-83403ef15207",
   "metadata": {},
   "outputs": [],
   "source": []
  }
 ],
 "metadata": {
  "kernelspec": {
   "display_name": "Python 3",
   "language": "python",
   "name": "python3"
  },
  "language_info": {
   "codemirror_mode": {
    "name": "ipython",
    "version": 3
   },
   "file_extension": ".py",
   "mimetype": "text/x-python",
   "name": "python",
   "nbconvert_exporter": "python",
   "pygments_lexer": "ipython3",
   "version": "3.8.2"
  }
 },
 "nbformat": 4,
 "nbformat_minor": 5
}

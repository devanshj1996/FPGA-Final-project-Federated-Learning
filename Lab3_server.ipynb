{
 "cells": [
  {
   "cell_type": "code",
   "execution_count": 364,
   "id": "ff97b392-b8c5-463a-bfdc-cf3fb393314c",
   "metadata": {
    "tags": []
   },
   "outputs": [],
   "source": [
    "import socket\n",
    "import numpy as np\n",
    "import time\n",
    "import pickle"
   ]
  },
  {
   "cell_type": "code",
   "execution_count": 365,
   "id": "5beb25be-8fc6-437c-ae3e-28a4a097306c",
   "metadata": {
    "tags": []
   },
   "outputs": [],
   "source": [
    "#List of IP addresses for different FPGAs\n",
    "HOST = [\"0.0.0.0\", \"0.0.0.0\", \"0.0.0.0\", \"0.0.0.0\"]\n",
    "PORT = [65432, 65433, 65434, 65435]  # Port to listen on (non-privileged ports are > 1023)"
   ]
  },
  {
   "cell_type": "code",
   "execution_count": 366,
   "id": "95f0effc-f715-4f84-b853-65d42b424043",
   "metadata": {
    "tags": []
   },
   "outputs": [],
   "source": [
    "#Randomly generating input arrays\n",
    "arr1 = np.random.randint(1000, size = (100,150),dtype='i2')\n",
    "arr2 = np.random.randint(1000, size = (150,200),dtype='i2')"
   ]
  },
  {
   "cell_type": "code",
   "execution_count": 367,
   "id": "0199ee66-783f-4332-8a24-55532f20e11f",
   "metadata": {
    "tags": []
   },
   "outputs": [],
   "source": [
    "#Flattening 2d Arrays to 1d\n",
    "arr1_ser= arr1.flatten()\n",
    "arr2_ser= arr2.flatten()"
   ]
  },
  {
   "cell_type": "code",
   "execution_count": 368,
   "id": "ffb260c0-c596-488e-9959-9d37bb02f8db",
   "metadata": {
    "tags": []
   },
   "outputs": [],
   "source": [
    "#Converting the arrays to send to bytes\n",
    "arr1_bytes = np.array(arr1_ser, dtype=np.int16).tobytes()\n",
    "arr2_bytes = np.array(arr2_ser, dtype=np.int16).tobytes()\n",
    "#arr2_2_bytes = np.array(arr2_ser[15000:30000], dtype=np.int16).tobytes()"
   ]
  },
  {
   "cell_type": "code",
   "execution_count": 369,
   "id": "421ce738-a039-4f3f-ad22-ba4163950dac",
   "metadata": {
    "tags": []
   },
   "outputs": [
    {
     "name": "stdout",
     "output_type": "stream",
     "text": [
      "Connected by ('192.168.0.101', 33606)\n",
      "1st Array sent:  [ 43 349 495 ... 181 862  95]\n",
      "2nd Array sent:  [294 296 660 ... 247 391   1]\n"
     ]
    },
    {
     "ename": "KeyboardInterrupt",
     "evalue": "",
     "output_type": "error",
     "traceback": [
      "\u001b[0;31m---------------------------------------------------------------------------\u001b[0m",
      "\u001b[0;31mKeyboardInterrupt\u001b[0m                         Traceback (most recent call last)",
      "Cell \u001b[0;32mIn[369], line 7\u001b[0m\n\u001b[1;32m      5\u001b[0m s\u001b[38;5;241m.\u001b[39mbind((HOST[i], PORT[i]))\n\u001b[1;32m      6\u001b[0m s\u001b[38;5;241m.\u001b[39mlisten()\n\u001b[0;32m----> 7\u001b[0m conn, addr \u001b[38;5;241m=\u001b[39m \u001b[43ms\u001b[49m\u001b[38;5;241;43m.\u001b[39;49m\u001b[43maccept\u001b[49m\u001b[43m(\u001b[49m\u001b[43m)\u001b[49m\n\u001b[1;32m      8\u001b[0m \u001b[38;5;28;01mwith\u001b[39;00m conn:\n\u001b[1;32m      9\u001b[0m     \u001b[38;5;28mprint\u001b[39m(\u001b[38;5;124mf\u001b[39m\u001b[38;5;124m\"\u001b[39m\u001b[38;5;124mConnected by \u001b[39m\u001b[38;5;132;01m{\u001b[39;00maddr\u001b[38;5;132;01m}\u001b[39;00m\u001b[38;5;124m\"\u001b[39m)\n",
      "File \u001b[0;32m/usr/lib/python3.9/socket.py:293\u001b[0m, in \u001b[0;36msocket.accept\u001b[0;34m(self)\u001b[0m\n\u001b[1;32m    286\u001b[0m \u001b[38;5;28;01mdef\u001b[39;00m \u001b[38;5;21maccept\u001b[39m(\u001b[38;5;28mself\u001b[39m):\n\u001b[1;32m    287\u001b[0m \u001b[38;5;250m    \u001b[39m\u001b[38;5;124;03m\"\"\"accept() -> (socket object, address info)\u001b[39;00m\n\u001b[1;32m    288\u001b[0m \n\u001b[1;32m    289\u001b[0m \u001b[38;5;124;03m    Wait for an incoming connection.  Return a new socket\u001b[39;00m\n\u001b[1;32m    290\u001b[0m \u001b[38;5;124;03m    representing the connection, and the address of the client.\u001b[39;00m\n\u001b[1;32m    291\u001b[0m \u001b[38;5;124;03m    For IP sockets, the address info is a pair (hostaddr, port).\u001b[39;00m\n\u001b[1;32m    292\u001b[0m \u001b[38;5;124;03m    \"\"\"\u001b[39;00m\n\u001b[0;32m--> 293\u001b[0m     fd, addr \u001b[38;5;241m=\u001b[39m \u001b[38;5;28;43mself\u001b[39;49m\u001b[38;5;241;43m.\u001b[39;49m\u001b[43m_accept\u001b[49m\u001b[43m(\u001b[49m\u001b[43m)\u001b[49m\n\u001b[1;32m    294\u001b[0m     sock \u001b[38;5;241m=\u001b[39m socket(\u001b[38;5;28mself\u001b[39m\u001b[38;5;241m.\u001b[39mfamily, \u001b[38;5;28mself\u001b[39m\u001b[38;5;241m.\u001b[39mtype, \u001b[38;5;28mself\u001b[39m\u001b[38;5;241m.\u001b[39mproto, fileno\u001b[38;5;241m=\u001b[39mfd)\n\u001b[1;32m    295\u001b[0m     \u001b[38;5;66;03m# Issue #7995: if no default timeout is set and the listening\u001b[39;00m\n\u001b[1;32m    296\u001b[0m     \u001b[38;5;66;03m# socket had a (non-zero) timeout, force the new socket in blocking\u001b[39;00m\n\u001b[1;32m    297\u001b[0m     \u001b[38;5;66;03m# mode to override platform-specific socket flags inheritance.\u001b[39;00m\n",
      "\u001b[0;31mKeyboardInterrupt\u001b[0m: "
     ]
    }
   ],
   "source": [
    "#Sending data to all the FPGAs one by one\n",
    "for i in range(len(HOST)):\n",
    "    \n",
    "    with socket.socket(socket.AF_INET, socket.SOCK_STREAM) as s:\n",
    "        s.bind((HOST[i], PORT[i]))\n",
    "        s.listen()\n",
    "        conn, addr = s.accept()\n",
    "        with conn:\n",
    "            print(f\"Connected by {addr}\")\n",
    "\n",
    "            data= arr1_bytes\n",
    "            conn.sendall(data)\n",
    "            print(\"1st Array sent: \", arr1_ser)\n",
    "            \n",
    "            \n",
    "            data= arr2_bytes\n",
    "            conn.sendall(data)\n",
    "            print(\"2nd Array sent: \", arr2_ser)\n",
    "            \n",
    "            \n",
    "#            data= arr2_2_bytes\n",
    "#            conn.sendall(data)\n",
    "            \n",
    "            "
   ]
  },
  {
   "cell_type": "markdown",
   "id": "1bf9c120-d9de-4b47-8ac6-0ccd721a844f",
   "metadata": {
    "tags": []
   },
   "source": [
    "# Create a socket object\n",
    "sock = socket.socket(socket.AF_INET, socket.SOCK_STREAM)\n",
    "\n",
    "# Define the server address and port\n",
    "server_address = (HOST[0], PORT[0])\n",
    "\n",
    "# Connect to the server\n",
    "sock.connect(server_address)\n",
    "\n",
    "# Generate an array of size 500,000 (example)\n",
    "array_size = 500000\n",
    "array = list(range(array_size))\n",
    "\n",
    "# Serialize the array using pickle\n",
    "serialized_array = pickle.dumps(array)\n",
    "\n",
    "# Send the serialized array to the server\n",
    "sock.sendall(serialized_array)\n",
    "\n",
    "# Close the socket\n",
    "sock.close()"
   ]
  },
  {
   "cell_type": "code",
   "execution_count": null,
   "id": "c0487552-0a35-44ae-926f-8e1325c6eb80",
   "metadata": {},
   "outputs": [],
   "source": [
    "#Receiving the computed matrix from the FPGAs\n",
    "ii=0\n",
    "PORT= [6000, 6001, 6002, 6003]\n",
    "\n",
    "fpga_res={}\n",
    "\n",
    "for i in range(len(HOST)):\n",
    "    \n",
    "    arr=[]\n",
    "    arr1=[]\n",
    "    \n",
    "    with socket.socket(socket.AF_INET, socket.SOCK_STREAM) as s:\n",
    "        s.bind((HOST[i], PORT[i]))\n",
    "        s.listen()\n",
    "        conn, addr = s.accept()\n",
    "        with conn:\n",
    "            print(f\"Connected by {addr}\")            \n",
    "            \n",
    "            for j in range(100):\n",
    "                result_bytes = conn.recv(2*200)\n",
    "                result = np.frombuffer(result_bytes, dtype=np.int16)\n",
    "                arr= result.copy()\n",
    "                arr1.append(arr)\n",
    "        \n",
    "    arr1 = [x for y in arr1 for x in y]\n",
    "    arr1 = np.array(list(arr1), dtype='int16')\n",
    "    arr1= arr1.reshape(100,200)\n",
    "    \n",
    "    ii = ii + 1\n",
    "    \n",
    "    fpga_res[ii]= arr1[::]\n",
    "    print(\"Array received from FPGA- \"+str(ii)+\" : \", fpga_res[ii])\n",
    "            "
   ]
  },
  {
   "cell_type": "code",
   "execution_count": null,
   "id": "755fcab4-c6d3-4959-947e-ac2beafd5d16",
   "metadata": {},
   "outputs": [],
   "source": []
  }
 ],
 "metadata": {
  "kernelspec": {
   "display_name": "Python 3 (ipykernel)",
   "language": "python",
   "name": "python3"
  },
  "language_info": {
   "codemirror_mode": {
    "name": "ipython",
    "version": 3
   },
   "file_extension": ".py",
   "mimetype": "text/x-python",
   "name": "python",
   "nbconvert_exporter": "python",
   "pygments_lexer": "ipython3",
   "version": "3.9.2"
  }
 },
 "nbformat": 4,
 "nbformat_minor": 5
}

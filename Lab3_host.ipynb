{
 "cells": [
  {
   "cell_type": "code",
   "execution_count": 22,
   "id": "f46c9630-dc33-4279-a631-71be2bc28d95",
   "metadata": {},
   "outputs": [],
   "source": [
    "import pynq\n",
    "import time\n",
    "import numpy as np\n",
    "import socket"
   ]
  },
  {
   "cell_type": "code",
   "execution_count": 23,
   "id": "b5eed2dc-a8be-4864-92d1-dd4a6dcb3c36",
   "metadata": {},
   "outputs": [],
   "source": [
    "HOST = \"127.0.0.2\"  # The server's hostname or IP address\n",
    "PORT = 65432  # The port used by the server"
   ]
  },
  {
   "cell_type": "code",
   "execution_count": 21,
   "id": "11c412b1-d2a2-46ae-8697-4abec1c37f52",
   "metadata": {},
   "outputs": [
    {
     "ename": "TimeoutError",
     "evalue": "[Errno 110] Connection timed out",
     "output_type": "error",
     "traceback": [
      "\u001b[0;31m---------------------------------------------------------------------------\u001b[0m",
      "\u001b[0;31mTimeoutError\u001b[0m                              Traceback (most recent call last)",
      "\u001b[0;31mTimeoutError\u001b[0m: [Errno 110] Connection timed out",
      "\nDuring handling of the above exception, another exception occurred:\n",
      "\u001b[0;31mTimeoutError\u001b[0m                              Traceback (most recent call last)",
      "\u001b[0;32m<ipython-input-21-a68dffc84bba>\u001b[0m in \u001b[0;36m<module>\u001b[0;34m\u001b[0m\n\u001b[1;32m      1\u001b[0m \u001b[0mbitstream\u001b[0m \u001b[0;34m=\u001b[0m \u001b[0;34m\"/nethome/djohri7/Desktop/board_run/Lab3/partA/optimized/real_matmul_optimized.bit\"\u001b[0m\u001b[0;34m\u001b[0m\u001b[0;34m\u001b[0m\u001b[0m\n\u001b[0;32m----> 2\u001b[0;31m \u001b[0moverlay\u001b[0m \u001b[0;34m=\u001b[0m \u001b[0mpynq\u001b[0m\u001b[0;34m.\u001b[0m\u001b[0mOverlay\u001b[0m\u001b[0;34m(\u001b[0m\u001b[0mbitstream\u001b[0m\u001b[0;34m)\u001b[0m\u001b[0;34m\u001b[0m\u001b[0;34m\u001b[0m\u001b[0m\n\u001b[0m\u001b[1;32m      3\u001b[0m \u001b[0mdut\u001b[0m \u001b[0;34m=\u001b[0m \u001b[0moverlay\u001b[0m\u001b[0;34m.\u001b[0m\u001b[0mreal_matmul_0\u001b[0m\u001b[0;34m\u001b[0m\u001b[0;34m\u001b[0m\u001b[0m\n",
      "\u001b[0;32m/usr/local/share/pynq-venv/lib/python3.8/site-packages/pynq/overlay.py\u001b[0m in \u001b[0;36m__init__\u001b[0;34m(self, bitfile_name, dtbo, download, ignore_version, device)\u001b[0m\n\u001b[1;32m    352\u001b[0m \u001b[0;34m\u001b[0m\u001b[0m\n\u001b[1;32m    353\u001b[0m         \u001b[0;32mif\u001b[0m \u001b[0mdownload\u001b[0m\u001b[0;34m:\u001b[0m\u001b[0;34m\u001b[0m\u001b[0;34m\u001b[0m\u001b[0m\n\u001b[0;32m--> 354\u001b[0;31m             \u001b[0mself\u001b[0m\u001b[0;34m.\u001b[0m\u001b[0mdownload\u001b[0m\u001b[0;34m(\u001b[0m\u001b[0;34m)\u001b[0m\u001b[0;34m\u001b[0m\u001b[0;34m\u001b[0m\u001b[0m\n\u001b[0m\u001b[1;32m    355\u001b[0m \u001b[0;34m\u001b[0m\u001b[0m\n\u001b[1;32m    356\u001b[0m         self.__doc__ = _build_docstring(self._ip_map._description,\n",
      "\u001b[0;32m/usr/local/share/pynq-venv/lib/python3.8/site-packages/pynq/overlay.py\u001b[0m in \u001b[0;36mdownload\u001b[0;34m(self, dtbo)\u001b[0m\n\u001b[1;32m    418\u001b[0m                     \u001b[0mClocks\u001b[0m\u001b[0;34m.\u001b[0m\u001b[0mset_pl_clk\u001b[0m\u001b[0;34m(\u001b[0m\u001b[0mi\u001b[0m\u001b[0;34m)\u001b[0m\u001b[0;34m\u001b[0m\u001b[0;34m\u001b[0m\u001b[0m\n\u001b[1;32m    419\u001b[0m \u001b[0;34m\u001b[0m\u001b[0m\n\u001b[0;32m--> 420\u001b[0;31m         \u001b[0msuper\u001b[0m\u001b[0;34m(\u001b[0m\u001b[0;34m)\u001b[0m\u001b[0;34m.\u001b[0m\u001b[0mdownload\u001b[0m\u001b[0;34m(\u001b[0m\u001b[0mself\u001b[0m\u001b[0;34m.\u001b[0m\u001b[0mparser\u001b[0m\u001b[0;34m)\u001b[0m\u001b[0;34m\u001b[0m\u001b[0;34m\u001b[0m\u001b[0m\n\u001b[0m\u001b[1;32m    421\u001b[0m         \u001b[0;32mif\u001b[0m \u001b[0mdtbo\u001b[0m\u001b[0;34m:\u001b[0m\u001b[0;34m\u001b[0m\u001b[0;34m\u001b[0m\u001b[0m\n\u001b[1;32m    422\u001b[0m             \u001b[0msuper\u001b[0m\u001b[0;34m(\u001b[0m\u001b[0;34m)\u001b[0m\u001b[0;34m.\u001b[0m\u001b[0minsert_dtbo\u001b[0m\u001b[0;34m(\u001b[0m\u001b[0mdtbo\u001b[0m\u001b[0;34m)\u001b[0m\u001b[0;34m\u001b[0m\u001b[0;34m\u001b[0m\u001b[0m\n",
      "\u001b[0;32m/usr/local/share/pynq-venv/lib/python3.8/site-packages/pynq/bitstream.py\u001b[0m in \u001b[0;36mdownload\u001b[0;34m(self, parser)\u001b[0m\n\u001b[1;32m    185\u001b[0m \u001b[0;34m\u001b[0m\u001b[0m\n\u001b[1;32m    186\u001b[0m         \"\"\"\n\u001b[0;32m--> 187\u001b[0;31m         \u001b[0mself\u001b[0m\u001b[0;34m.\u001b[0m\u001b[0mdevice\u001b[0m\u001b[0;34m.\u001b[0m\u001b[0mdownload\u001b[0m\u001b[0;34m(\u001b[0m\u001b[0mself\u001b[0m\u001b[0;34m,\u001b[0m \u001b[0mparser\u001b[0m\u001b[0;34m)\u001b[0m\u001b[0;34m\u001b[0m\u001b[0;34m\u001b[0m\u001b[0m\n\u001b[0m\u001b[1;32m    188\u001b[0m \u001b[0;34m\u001b[0m\u001b[0m\n\u001b[1;32m    189\u001b[0m     \u001b[0;32mdef\u001b[0m \u001b[0mremove_dtbo\u001b[0m\u001b[0;34m(\u001b[0m\u001b[0mself\u001b[0m\u001b[0;34m)\u001b[0m\u001b[0;34m:\u001b[0m\u001b[0;34m\u001b[0m\u001b[0;34m\u001b[0m\u001b[0m\n",
      "\u001b[0;32m/usr/local/share/pynq-venv/lib/python3.8/site-packages/pynq/pl_server/embedded_device.py\u001b[0m in \u001b[0;36mdownload\u001b[0;34m(self, bitstream, parser)\u001b[0m\n\u001b[1;32m    594\u001b[0m             \u001b[0mfd\u001b[0m\u001b[0;34m.\u001b[0m\u001b[0mwrite\u001b[0m\u001b[0;34m(\u001b[0m\u001b[0mstr\u001b[0m\u001b[0;34m(\u001b[0m\u001b[0mflag\u001b[0m\u001b[0;34m)\u001b[0m\u001b[0;34m)\u001b[0m\u001b[0;34m\u001b[0m\u001b[0;34m\u001b[0m\u001b[0m\n\u001b[1;32m    595\u001b[0m         \u001b[0;32mwith\u001b[0m \u001b[0mopen\u001b[0m\u001b[0;34m(\u001b[0m\u001b[0mself\u001b[0m\u001b[0;34m.\u001b[0m\u001b[0mBS_FPGA_MAN\u001b[0m\u001b[0;34m,\u001b[0m \u001b[0;34m'w'\u001b[0m\u001b[0;34m)\u001b[0m \u001b[0;32mas\u001b[0m \u001b[0mfd\u001b[0m\u001b[0;34m:\u001b[0m\u001b[0;34m\u001b[0m\u001b[0;34m\u001b[0m\u001b[0m\n\u001b[0;32m--> 596\u001b[0;31m             \u001b[0mfd\u001b[0m\u001b[0;34m.\u001b[0m\u001b[0mwrite\u001b[0m\u001b[0;34m(\u001b[0m\u001b[0mbitstream\u001b[0m\u001b[0;34m.\u001b[0m\u001b[0mbinfile_name\u001b[0m\u001b[0;34m)\u001b[0m\u001b[0;34m\u001b[0m\u001b[0;34m\u001b[0m\u001b[0m\n\u001b[0m\u001b[1;32m    597\u001b[0m \u001b[0;34m\u001b[0m\u001b[0m\n\u001b[1;32m    598\u001b[0m         \u001b[0mself\u001b[0m\u001b[0;34m.\u001b[0m\u001b[0mset_axi_port_width\u001b[0m\u001b[0;34m(\u001b[0m\u001b[0mparser\u001b[0m\u001b[0;34m)\u001b[0m\u001b[0;34m\u001b[0m\u001b[0;34m\u001b[0m\u001b[0m\n",
      "\u001b[0;31mTimeoutError\u001b[0m: [Errno 110] Connection timed out"
     ]
    }
   ],
   "source": [
    "bitstream = \"/nethome/djohri7/Desktop/board_run/Lab3/partA/optimized/real_matmul_optimized.bit\"\n",
    "overlay = pynq.Overlay(bitstream)\n",
    "dut = overlay.real_matmul_0"
   ]
  },
  {
   "cell_type": "code",
   "execution_count": 17,
   "id": "5cf2bbcd-8b4a-443f-9631-87cff2650a21",
   "metadata": {},
   "outputs": [],
   "source": [
    "A = pynq.allocate((100, 150), dtype='int16')\n",
    "B = pynq.allocate((150, 200), dtype='int16')\n",
    "C = pynq.allocate((100, 200), dtype='int16')"
   ]
  },
  {
   "cell_type": "code",
   "execution_count": 18,
   "id": "838f80ba-7b1c-4408-80f5-f2bcfea39aa0",
   "metadata": {},
   "outputs": [
    {
     "ename": "ValueError",
     "evalue": "cannot reshape array of size 30000 into shape (100,150)",
     "output_type": "error",
     "traceback": [
      "\u001b[0;31m---------------------------------------------------------------------------\u001b[0m",
      "\u001b[0;31mValueError\u001b[0m                                Traceback (most recent call last)",
      "\u001b[0;32m<ipython-input-18-1f96339a3e0f>\u001b[0m in \u001b[0;36m<module>\u001b[0;34m\u001b[0m\n\u001b[1;32m     21\u001b[0m \u001b[0marr2\u001b[0m \u001b[0;34m=\u001b[0m \u001b[0mnp\u001b[0m\u001b[0;34m.\u001b[0m\u001b[0marray\u001b[0m\u001b[0;34m(\u001b[0m\u001b[0mlist\u001b[0m\u001b[0;34m(\u001b[0m\u001b[0mnp\u001b[0m\u001b[0;34m.\u001b[0m\u001b[0mconcatenate\u001b[0m\u001b[0;34m(\u001b[0m\u001b[0marr2\u001b[0m\u001b[0;34m+\u001b[0m\u001b[0marr3\u001b[0m\u001b[0;34m)\u001b[0m\u001b[0;34m)\u001b[0m\u001b[0;34m,\u001b[0m \u001b[0mdtype\u001b[0m\u001b[0;34m=\u001b[0m\u001b[0;34m'int16'\u001b[0m\u001b[0;34m)\u001b[0m\u001b[0;34m\u001b[0m\u001b[0;34m\u001b[0m\u001b[0m\n\u001b[1;32m     22\u001b[0m \u001b[0;34m\u001b[0m\u001b[0m\n\u001b[0;32m---> 23\u001b[0;31m \u001b[0marr1\u001b[0m\u001b[0;34m=\u001b[0m \u001b[0marr1\u001b[0m\u001b[0;34m.\u001b[0m\u001b[0mreshape\u001b[0m\u001b[0;34m(\u001b[0m\u001b[0;36m100\u001b[0m\u001b[0;34m,\u001b[0m\u001b[0;36m150\u001b[0m\u001b[0;34m)\u001b[0m\u001b[0;34m\u001b[0m\u001b[0;34m\u001b[0m\u001b[0m\n\u001b[0m\u001b[1;32m     24\u001b[0m \u001b[0marr2\u001b[0m\u001b[0;34m=\u001b[0m \u001b[0marr2\u001b[0m\u001b[0;34m.\u001b[0m\u001b[0mreshape\u001b[0m\u001b[0;34m(\u001b[0m\u001b[0;36m150\u001b[0m\u001b[0;34m,\u001b[0m\u001b[0;36m200\u001b[0m\u001b[0;34m)\u001b[0m\u001b[0;34m\u001b[0m\u001b[0;34m\u001b[0m\u001b[0m\n\u001b[1;32m     25\u001b[0m \u001b[0;34m\u001b[0m\u001b[0m\n",
      "\u001b[0;31mValueError\u001b[0m: cannot reshape array of size 30000 into shape (100,150)"
     ]
    }
   ],
   "source": [
    "arr1=[]\n",
    "arr2=[]\n",
    "arr3=[]\n",
    "\n",
    "with socket.socket(socket.AF_INET, socket.SOCK_STREAM) as s:\n",
    "    \n",
    "    s.connect((HOST, PORT))\n",
    "    result_bytes = s.recv(4*100*150)\n",
    "    result = np.frombuffer(result_bytes, dtype=np.int16)\n",
    "    arr1= result.copy()\n",
    "    \n",
    "    result_bytes = s.recv((4*15000))\n",
    "    result = np.frombuffer(result_bytes, dtype=np.int16)\n",
    "    arr2.append(result)\n",
    "    \n",
    "    result_bytes = s.recv((4*15001))\n",
    "    result = np.frombuffer(result_bytes, dtype=np.int16)\n",
    "    arr3.append(result)\n",
    "    \n",
    "arr1 = np.array(list(arr1), dtype='int16')\n",
    "arr2 = np.array(list(np.concatenate(arr2+arr3)), dtype='int16')\n",
    "\n",
    "arr1= arr1.reshape(100,150)\n",
    "arr2= arr2.reshape(150,200)\n",
    "\n",
    "print(\"1st Array received: \", arr1)\n",
    "print(\"2nd Array received: \", arr2)"
   ]
  },
  {
   "cell_type": "code",
   "execution_count": null,
   "id": "d1a8812e-59c8-4090-af79-8e537ff3ae76",
   "metadata": {},
   "outputs": [],
   "source": [
    "for i in range(100):\n",
    "    for j in range(150):\n",
    "        A[i][j]= arr1[i][j]\n",
    "\n",
    "for i in range(150):\n",
    "    for j in range(200):\n",
    "        B[i][j]= arr2[i][j]"
   ]
  },
  {
   "cell_type": "code",
   "execution_count": null,
   "id": "8e115a26-cf6a-45f0-9990-51711f6d6d66",
   "metadata": {},
   "outputs": [],
   "source": [
    "A.sync_to_device()\n",
    "B.sync_to_device()\n",
    "dut.register_map\n",
    "dut.register_map.MatA_DRAM_1 = A.device_address & 0xFFFFFFFF\n",
    "dut.register_map.MatA_DRAM_2 = A.device_address >> 32\n",
    "\n",
    "dut.register_map.MatB_DRAM_1 = B.device_address & 0xFFFFFFFF\n",
    "dut.register_map.MatB_DRAM_2 = B.device_address >> 32\n",
    "\n",
    "dut.register_map.MatC_DRAM_1 = C.device_address & 0xFFFFFFFF\n",
    "dut.register_map.MatC_DRAM_2 = C.device_address >> 32\n",
    "start_time = time.time()\n",
    "\n",
    "dut.register_map.CTRL.AP_START = 1\n",
    "dut.register_map.CTRL[4] = 1\n",
    "while not dut.register_map.CTRL.AP_DONE: pass\n",
    "\n",
    "end_time = time.time()\n",
    "duration = end_time - start_time\n",
    "print(f'Kernel completed in {duration * 1000:.2f}ms')\n",
    "C.sync_from_device()"
   ]
  },
  {
   "cell_type": "code",
   "execution_count": null,
   "id": "e21a57a9-1768-49b6-ba6a-be142f82e511",
   "metadata": {},
   "outputs": [],
   "source": [
    "C_expected= np.matmul(arr1,arr2)"
   ]
  },
  {
   "cell_type": "code",
   "execution_count": null,
   "id": "0b32b08f-c00d-4ec1-bdbc-3336c34d0162",
   "metadata": {},
   "outputs": [],
   "source": [
    "passed=1\n",
    "for i in range(100):\n",
    "    for j in range(200):\n",
    "        if(C_expected[i][j]!= C[i][j]):\n",
    "            print(\"Mismatch at C_expected[\"+str(i)+\"][\"+str(j)+\"]: Expected: \"+str(C_expected[i][j])+\" \\t Actual: \"+str(C[i][j])+\"\\n\")\n",
    "            passed=0\n",
    "\n",
    "if(passed):\n",
    "    print(\"-----------------------------------\\n\");\n",
    "    print(\"|         TEST PASSED!            |\\n\");\n",
    "    print(\"-----------------------------------\\n\");\n",
    "\n",
    "else:\n",
    "    print(\"-----------------------------------\\n\");\n",
    "    print(\"|         TEST FAILED :(          |\\n\");\n",
    "    print(\"-----------------------------------\\n\");"
   ]
  },
  {
   "cell_type": "code",
   "execution_count": null,
   "id": "7f51f697-1645-4457-83ff-47f8c3456b37",
   "metadata": {},
   "outputs": [],
   "source": [
    "overlay.free()"
   ]
  },
  {
   "cell_type": "code",
   "execution_count": null,
   "id": "3fb15d51-36ac-4d3a-b5ab-4d1e54309177",
   "metadata": {},
   "outputs": [],
   "source": [
    "start_time = time.time()\n",
    "\n",
    "C_out = np.matmul(A, B)\n",
    "\n",
    "end_time = time.time()\n",
    "duration = end_time - start_time\n",
    "print(f'PS computation completed in {duration * 1000:.2f}ms')"
   ]
  },
  {
   "cell_type": "code",
   "execution_count": null,
   "id": "3f4c9809-305a-4f51-a979-14342e199bbe",
   "metadata": {},
   "outputs": [],
   "source": [
    "#Sending the data back\n",
    "c= np.empty(shape=(100,200))\n",
    "for i in range(100):\n",
    "    for j in range(200):\n",
    "        c[i][j]= C[i][j]\n",
    "\n",
    "c_ser= c.flatten()\n",
    "c_1_bytes = np.array(c_ser[0:10000], dtype=np.int16).tobytes()\n",
    "c_2_bytes = np.array(c_ser[10000:20000], dtype=np.int16).tobytes()\n",
    "\n",
    "print(c_ser[0:10000])\n",
    "print(c_ser[10000:20000])\n",
    "print(c_ser)\n",
    "\n",
    "\n",
    "PORT = 65433\n",
    "with socket.socket(socket.AF_INET, socket.SOCK_STREAM) as s:\n",
    "    \n",
    "    s.connect((HOST, PORT))\n",
    "\n",
    "    data= c_1_bytes\n",
    "    s.sendall(data)\n",
    "            \n",
    "    data= c_2_bytes\n",
    "    s.sendall(data)\n",
    "  "
   ]
  },
  {
   "cell_type": "code",
   "execution_count": null,
   "id": "fef7d4e4-fb6d-45a8-b722-a58f84e45215",
   "metadata": {},
   "outputs": [],
   "source": []
  },
  {
   "cell_type": "code",
   "execution_count": null,
   "id": "dd7bf2a4-b432-42df-bef9-295eeb558c34",
   "metadata": {},
   "outputs": [],
   "source": []
  }
 ],
 "metadata": {
  "kernelspec": {
   "display_name": "Python 3",
   "language": "python",
   "name": "python3"
  },
  "language_info": {
   "codemirror_mode": {
    "name": "ipython",
    "version": 3
   },
   "file_extension": ".py",
   "mimetype": "text/x-python",
   "name": "python",
   "nbconvert_exporter": "python",
   "pygments_lexer": "ipython3",
   "version": "3.8.2"
  }
 },
 "nbformat": 4,
 "nbformat_minor": 5
}
